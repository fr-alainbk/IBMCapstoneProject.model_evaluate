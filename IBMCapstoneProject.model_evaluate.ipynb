{
 "cells": [
  {
   "cell_type": "markdown",
   "metadata": {},
   "source": [
    "# Model Definition"
   ]
  },
  {
   "cell_type": "markdown",
   "metadata": {},
   "source": [
    "## Regression Model to Predict Customer Purchasing Behavior.\n",
    "\n",
    "Now we will create a regression model that predicts the average monthly spend of new customers. For now, we will keep the same feaure variables, and just change the target variable.\n",
    "\n",
    "We will use: \n",
    "\n",
    "- A Regression Linear Model from sklearn\n",
    "- A Neural Network from keras"
   ]
  },
  {
   "cell_type": "markdown",
   "metadata": {},
   "source": [
    "## Selection of Model Performance Indicator\n",
    "\n",
    "For this regression task, we will use the **Mean Squared Error** as model performance indicator. We will use it because it tells how close a regression line is to a set of points. Besides, the MSE gives more weight to larger differences (due to the squared part). Since we want to penalize large differences, the MSE looks appropriate."
   ]
  },
  {
   "cell_type": "code",
   "execution_count": 42,
   "metadata": {},
   "outputs": [],
   "source": [
    "from sklearn.metrics import mean_squared_error"
   ]
  },
  {
   "cell_type": "code",
   "execution_count": 43,
   "metadata": {},
   "outputs": [],
   "source": [
    "# Genererate the target variable y_\n",
    "y2 = aw_avupdated['AveMonthSpend']\n",
    "# Keep the same feature variable X\n",
    "\n",
    "X_train2, X_valid2, y_train2, y_valid2 = train_test_split(Features, y2, train_size=0.75, test_size=0.25, random_state=0)\n",
    "scaler2 = preprocessing.StandardScaler().fit(X_train2[:, 15:])\n",
    "X_train2[:, 15:] = scaler2.transform(X_train2[:, 15:])\n",
    "X_valid2[:, 15:] = scaler2.transform(X_valid2[:, 15:])"
   ]
  },
  {
   "cell_type": "markdown",
   "metadata": {},
   "source": [
    "### Machine Learning Model from sklearn (Linear Model)"
   ]
  },
  {
   "cell_type": "code",
   "execution_count": 44,
   "metadata": {},
   "outputs": [
    {
     "data": {
      "text/plain": [
       "LinearRegression(copy_X=True, fit_intercept=False, n_jobs=None,\n",
       "         normalize=False)"
      ]
     },
     "execution_count": 44,
     "metadata": {},
     "output_type": "execute_result"
    }
   ],
   "source": [
    "# Define and fit the linear regression model\n",
    "lin_mod = linear_model.LinearRegression(fit_intercept = False)\n",
    "lin_mod.fit(X_train2, y_train2)"
   ]
  },
  {
   "cell_type": "code",
   "execution_count": 45,
   "metadata": {},
   "outputs": [],
   "source": [
    "y_hat = lin_mod.predict(X_valid2)"
   ]
  },
  {
   "cell_type": "markdown",
   "metadata": {},
   "source": [
    "# Model Evaluation"
   ]
  },
  {
   "cell_type": "code",
   "execution_count": 46,
   "metadata": {},
   "outputs": [
    {
     "name": "stdout",
     "output_type": "stream",
     "text": [
      "MSE of the Linear Regression Model: 38.72407571765726\n"
     ]
    }
   ],
   "source": [
    "# Evaluate the model (get the MSE)\n",
    "\n",
    "print(\"MSE of the Linear Regression Model: {}\".format(mean_squared_error(y_hat, y_valid2)))"
   ]
  },
  {
   "cell_type": "markdown",
   "metadata": {},
   "source": [
    "### Deep Learning Model from Keras"
   ]
  },
  {
   "cell_type": "code",
   "execution_count": 47,
   "metadata": {},
   "outputs": [
    {
     "name": "stderr",
     "output_type": "stream",
     "text": [
      "Using TensorFlow backend.\n"
     ]
    }
   ],
   "source": [
    "import keras\n",
    "\n",
    "from keras.models import Sequential\n",
    "from keras.layers import Dense"
   ]
  },
  {
   "cell_type": "code",
   "execution_count": 60,
   "metadata": {},
   "outputs": [
    {
     "name": "stdout",
     "output_type": "stream",
     "text": [
      "Epoch 1/10\n",
      "12303/12303 [==============================] - 1s 55us/step - loss: 1759.7316\n",
      "Epoch 2/10\n",
      "12303/12303 [==============================] - 0s 35us/step - loss: 47.9815\n",
      "Epoch 3/10\n",
      "12303/12303 [==============================] - 0s 33us/step - loss: 33.5314\n",
      "Epoch 4/10\n",
      "12303/12303 [==============================] - 0s 31us/step - loss: 27.2264\n",
      "Epoch 5/10\n",
      "12303/12303 [==============================] - 0s 32us/step - loss: 22.1564\n",
      "Epoch 6/10\n",
      "12303/12303 [==============================] - 0s 32us/step - loss: 18.6525\n",
      "Epoch 7/10\n",
      "12303/12303 [==============================] - 0s 32us/step - loss: 16.8472\n",
      "Epoch 8/10\n",
      "12303/12303 [==============================] - 0s 34us/step - loss: 15.8097\n",
      "Epoch 9/10\n",
      "12303/12303 [==============================] - 0s 33us/step - loss: 15.2166\n",
      "Epoch 10/10\n",
      "12303/12303 [==============================] - 1s 48us/step - loss: 14.6733\n"
     ]
    }
   ],
   "source": [
    "# define the model\n",
    "model = Sequential()\n",
    "model.add(Dense(units=32, activation='relu', input_dim=X_train2.shape[1]))\n",
    "model.add(Dense(units=32, activation='relu'))\n",
    "model.add(Dense(units=1))\n",
    "\n",
    "# compile the model\n",
    "model.compile(loss='mean_squared_error', optimizer='adam')\n",
    "history = model.fit(X_train2, y_train2, epochs=10, batch_size = 32)"
   ]
  },
  {
   "cell_type": "markdown",
   "metadata": {},
   "source": [
    "## Evaluate the Neural Network Model"
   ]
  },
  {
   "cell_type": "code",
   "execution_count": 61,
   "metadata": {
    "scrolled": true
   },
   "outputs": [
    {
     "name": "stdout",
     "output_type": "stream",
     "text": [
      "MSE of Neural Network Model: 14.07499619750643\n"
     ]
    }
   ],
   "source": [
    "nn_pred = model.predict(X_valid2)\n",
    "print(\"MSE of Neural Network Model: {}\".format(mean_squared_error(nn_pred, y_valid2)))"
   ]
  },
  {
   "cell_type": "code",
   "execution_count": 74,
   "metadata": {},
   "outputs": [],
   "source": [
    "#print(history.history['loss'])"
   ]
  },
  {
   "cell_type": "code",
   "execution_count": 68,
   "metadata": {},
   "outputs": [
    {
     "data": {
      "image/png": "[encoded data removed]",
      "text/plain": [
       "<Figure size 432x288 with 1 Axes>"
      ]
     },
     "metadata": {
      "needs_background": "light"
     },
     "output_type": "display_data"
    }
   ],
   "source": [
    "plt.plot(range(10), history.history['loss'])\n",
    "plt.xlabel(\"Epochs\")\n",
    "plt.ylabel(\"Loss(MSE)\")\n",
    "plt.title(\" Variation of Loss (Model Performance) with Epochs \")\n",
    "plt.show()"
   ]
  },
  {
   "cell_type": "markdown",
   "metadata": {},
   "source": [
    "We have built two models. We built one classic Machine Learning model which was a Linear Regression (lin_mod) using scikit-learn, and one Deep Learning Model (model) using keras. "
   ]
  }
 ],
 "metadata": {
  "kernelspec": {
   "display_name": "Python 3",
   "language": "python",
   "name": "python3"
  },
  "language_info": {
   "codemirror_mode": {
    "name": "ipython",
    "version": 3
   },
   "file_extension": ".py",
   "mimetype": "text/x-python",
   "name": "python",
   "nbconvert_exporter": "python",
   "pygments_lexer": "ipython3",
   "version": "3.7.3"
  }
 },
 "nbformat": 4,
 "nbformat_minor": 2
}
